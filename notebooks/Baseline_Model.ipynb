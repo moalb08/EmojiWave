{
 "cells": [
  {
   "cell_type": "markdown",
   "id": "719f2522-f205-4c05-9449-1f09c4386830",
   "metadata": {},
   "source": [
    "Import Libraries 📚➡️🔄"
   ]
  },
  {
   "cell_type": "code",
   "execution_count": 20,
   "id": "52d00ee3-7744-4320-97a6-341e4f414f39",
   "metadata": {},
   "outputs": [],
   "source": [
    "import os\n",
    "import matplotlib.pyplot as plt\n",
    "import seaborn as sns\n",
    "from collections import Counter\n",
    "import cv2\n",
    "import matplotlib.image as mpimg\n",
    "import tensorflow as tf\n",
    "import numpy as np"
   ]
  },
  {
   "cell_type": "markdown",
   "id": "a35508fe-468e-4088-a1e6-1a4447e51021",
   "metadata": {},
   "source": [
    "#  3 # 🧼 Data Preprocessing – Real-Time Hand Gesture Dataset\n",
    " Our Notebook handles the preprocessing for our hand gesture dataset project by:\n",
    "- Loading the image\n",
    "- Resizing and normalizing the image\n",
    "- Spliting the data into train and test\n",
    "- Visualing checking the preprocessed data\n",
    "  \n",
    "NH & M"
   ]
  },
  {
   "cell_type": "markdown",
   "id": "4ad666e0-26a9-40ef-a0ab-f95dc1414268",
   "metadata": {},
   "source": [
    "Number of images per class 🔢🖼️➡️📚"
   ]
  },
  {
   "cell_type": "code",
   "execution_count": 21,
   "id": "f013bd25-b8ae-4271-a9cd-66bbcb64040a",
   "metadata": {},
   "outputs": [],
   "source": [
    "IMG_SIZE = 64"
   ]
  },
  {
   "cell_type": "markdown",
   "id": "8843e177-f53a-47c4-8373-124a364bfee8",
   "metadata": {},
   "source": [
    "Load, Resize, and Normalize Images 🔄, 🔎➕, 🔄➡️🌐🖼️"
   ]
  },
  {
   "cell_type": "code",
   "execution_count": 22,
   "id": "443c9195-117e-4c11-837f-88dbbbb88282",
   "metadata": {},
   "outputs": [
    {
     "name": "stdout",
     "output_type": "stream",
     "text": [
      "Found 5243 files belonging to 10 classes.\n",
      "Using 4195 files for training.\n",
      "Found 5243 files belonging to 10 classes.\n",
      "Using 1048 files for validation.\n"
     ]
    }
   ],
   "source": [
    "BATCH_SIZE = 32\n",
    "SEED = 42\n",
    "DATA_PATH = \"real_time_gesture/Dataset\"\n",
    "# 🔄 Load, Resize, and Label Automatically\n",
    "train_ds = tf.keras.utils.image_dataset_from_directory(\n",
    "    DATA_PATH,\n",
    "    validation_split=0.2,\n",
    "    subset=\"training\",\n",
    "    seed=SEED,\n",
    "    image_size=(IMG_SIZE, IMG_SIZE),\n",
    "    batch_size=BATCH_SIZE\n",
    ")\n",
    "\n",
    "test_ds = tf.keras.utils.image_dataset_from_directory(\n",
    "    DATA_PATH,\n",
    "    validation_split=0.2,\n",
    "    subset=\"validation\",\n",
    "    seed=SEED,\n",
    "    image_size=(IMG_SIZE, IMG_SIZE),\n",
    "    batch_size=BATCH_SIZE\n",
    ")\n"
   ]
  },
  {
   "cell_type": "code",
   "execution_count": null,
   "id": "a46a2d0d-aabb-49e2-97f4-8359419b9ff9",
   "metadata": {},
   "outputs": [],
   "source": [
    "normalization_layer = tf.keras.layers.Rescaling(1./255)\n",
    "AUTOTUNE = tf.data.AUTOTUNE\n",
    "\n",
    "def preprocess(ds, is_train=False):\n",
    "    def to_grayscale(image, label):\n",
    "        image = tf.image.rgb_to_grayscale(image)\n",
    "        return image, label\n",
    "\n",
    "    ds = ds.map(to_grayscale, num_parallel_calls=AUTOTUNE)\n",
    "    ds = ds.map(lambda x, y: (normalization_layer(x), y), num_parallel_calls=AUTOTUNE)\n",
    "    ds = ds.cache()\n",
    "    ds = ds.prefetch(buffer_size=AUTOTUNE)\n",
    "    return ds\n",
    "\n",
    "train_ds = preprocess(train_ds, is_train=True )\n",
    "test_ds = preprocess(test_ds)"
   ]
  },
  {
   "cell_type": "markdown",
   "id": "6ef0a4ef-e850-4dd4-9a3e-12cd170fe7c9",
   "metadata": {},
   "source": [
    "# 4. Baseline Model 🚀\n",
    "\n",
    "\n",
    "1️⃣ Model Overview 📊\n",
    "In this section, we kick things off with a simple Convolutional Neural Network (CNN) model.\n",
    "This baseline helps us evaluate our starting point before diving into more complex architectures.\n",
    "\n",
    "🎯 What We Achieved:\n",
    "\n",
    "Trained a CNN on our dataset\n",
    "\n",
    "Evaluated the model using accuracy and loss\n",
    "\n",
    "✨ Every great model starts with a solid baseline. We’re on the right track, team!"
   ]
  },
  {
   "cell_type": "markdown",
   "id": "08a57977-f162-44d4-a8a1-8bc8d4b74ff4",
   "metadata": {},
   "source": [
    "2️⃣ Model Architecture 🧠\n",
    "The model is compact but effective, composed of the following layers:\n",
    "\n",
    "🧩 Conv2D: A convolutional layer with 6 filters of size 3x3\n",
    "\n",
    "🔄 Flatten: Converts the feature map into a 1D vector\n",
    "\n",
    "🎯 Dense: Fully connected layer with 10 neurons representing the output classes"
   ]
  },
  {
   "cell_type": "code",
   "execution_count": null,
   "id": "3b252e46-7e52-4d3a-8065-63d47651e1c2",
   "metadata": {},
   "outputs": [],
   "source": [
    "from tensorflow.keras import models\n",
    "from tensorflow.keras import layers\n",
    "model = models.Sequential()\n",
    "# input layer\n",
    "model.add(layers.Conv2D(6, kernel_size=(3, 3), activation='relu', input_shape=(64, 64, 1)))\n",
    "# convereetd it from 3D to 1D\n",
    "model.add(layers.Flatten())\n",
    "\n",
    "# output layer\n",
    "model.add(layers.Dense(10, activation='softmax'))"
   ]
  },
  {
   "cell_type": "markdown",
   "id": "ee0df032-89ad-4543-8cfa-7885eb935cb1",
   "metadata": {},
   "source": [
    "💡 It’s small, but it’s mighty — this model lays the groundwork for everything that’s coming next!"
   ]
  },
  {
   "cell_type": "code",
   "execution_count": null,
   "id": "5cfc5bb4-a5a7-4aa0-a6aa-67d8c628eb9f",
   "metadata": {},
   "outputs": [
    {
     "data": {
      "text/html": [
       "<pre style=\"white-space:pre;overflow-x:auto;line-height:normal;font-family:Menlo,'DejaVu Sans Mono',consolas,'Courier New',monospace\"><span style=\"font-weight: bold\">Model: \"sequential_2\"</span>\n",
       "</pre>\n"
      ],
      "text/plain": [
       "\u001b[1mModel: \"sequential_2\"\u001b[0m\n"
      ]
     },
     "metadata": {},
     "output_type": "display_data"
    },
    {
     "data": {
      "text/html": [
       "<pre style=\"white-space:pre;overflow-x:auto;line-height:normal;font-family:Menlo,'DejaVu Sans Mono',consolas,'Courier New',monospace\">┏━━━━━━━━━━━━━━━━━━━━━━━━━━━━━━━━━┳━━━━━━━━━━━━━━━━━━━━━━━━┳━━━━━━━━━━━━━━━┓\n",
       "┃<span style=\"font-weight: bold\"> Layer (type)                    </span>┃<span style=\"font-weight: bold\"> Output Shape           </span>┃<span style=\"font-weight: bold\">       Param # </span>┃\n",
       "┡━━━━━━━━━━━━━━━━━━━━━━━━━━━━━━━━━╇━━━━━━━━━━━━━━━━━━━━━━━━╇━━━━━━━━━━━━━━━┩\n",
       "│ conv2d_2 (<span style=\"color: #0087ff; text-decoration-color: #0087ff\">Conv2D</span>)               │ (<span style=\"color: #00d7ff; text-decoration-color: #00d7ff\">None</span>, <span style=\"color: #00af00; text-decoration-color: #00af00\">62</span>, <span style=\"color: #00af00; text-decoration-color: #00af00\">62</span>, <span style=\"color: #00af00; text-decoration-color: #00af00\">6</span>)      │            <span style=\"color: #00af00; text-decoration-color: #00af00\">60</span> │\n",
       "├─────────────────────────────────┼────────────────────────┼───────────────┤\n",
       "│ flatten_2 (<span style=\"color: #0087ff; text-decoration-color: #0087ff\">Flatten</span>)             │ (<span style=\"color: #00d7ff; text-decoration-color: #00d7ff\">None</span>, <span style=\"color: #00af00; text-decoration-color: #00af00\">23064</span>)          │             <span style=\"color: #00af00; text-decoration-color: #00af00\">0</span> │\n",
       "├─────────────────────────────────┼────────────────────────┼───────────────┤\n",
       "│ dense_2 (<span style=\"color: #0087ff; text-decoration-color: #0087ff\">Dense</span>)                 │ (<span style=\"color: #00d7ff; text-decoration-color: #00d7ff\">None</span>, <span style=\"color: #00af00; text-decoration-color: #00af00\">10</span>)             │       <span style=\"color: #00af00; text-decoration-color: #00af00\">230,650</span> │\n",
       "└─────────────────────────────────┴────────────────────────┴───────────────┘\n",
       "</pre>\n"
      ],
      "text/plain": [
       "┏━━━━━━━━━━━━━━━━━━━━━━━━━━━━━━━━━┳━━━━━━━━━━━━━━━━━━━━━━━━┳━━━━━━━━━━━━━━━┓\n",
       "┃\u001b[1m \u001b[0m\u001b[1mLayer (type)                   \u001b[0m\u001b[1m \u001b[0m┃\u001b[1m \u001b[0m\u001b[1mOutput Shape          \u001b[0m\u001b[1m \u001b[0m┃\u001b[1m \u001b[0m\u001b[1m      Param #\u001b[0m\u001b[1m \u001b[0m┃\n",
       "┡━━━━━━━━━━━━━━━━━━━━━━━━━━━━━━━━━╇━━━━━━━━━━━━━━━━━━━━━━━━╇━━━━━━━━━━━━━━━┩\n",
       "│ conv2d_2 (\u001b[38;5;33mConv2D\u001b[0m)               │ (\u001b[38;5;45mNone\u001b[0m, \u001b[38;5;34m62\u001b[0m, \u001b[38;5;34m62\u001b[0m, \u001b[38;5;34m6\u001b[0m)      │            \u001b[38;5;34m60\u001b[0m │\n",
       "├─────────────────────────────────┼────────────────────────┼───────────────┤\n",
       "│ flatten_2 (\u001b[38;5;33mFlatten\u001b[0m)             │ (\u001b[38;5;45mNone\u001b[0m, \u001b[38;5;34m23064\u001b[0m)          │             \u001b[38;5;34m0\u001b[0m │\n",
       "├─────────────────────────────────┼────────────────────────┼───────────────┤\n",
       "│ dense_2 (\u001b[38;5;33mDense\u001b[0m)                 │ (\u001b[38;5;45mNone\u001b[0m, \u001b[38;5;34m10\u001b[0m)             │       \u001b[38;5;34m230,650\u001b[0m │\n",
       "└─────────────────────────────────┴────────────────────────┴───────────────┘\n"
      ]
     },
     "metadata": {},
     "output_type": "display_data"
    },
    {
     "data": {
      "text/html": [
       "<pre style=\"white-space:pre;overflow-x:auto;line-height:normal;font-family:Menlo,'DejaVu Sans Mono',consolas,'Courier New',monospace\"><span style=\"font-weight: bold\"> Total params: </span><span style=\"color: #00af00; text-decoration-color: #00af00\">230,710</span> (901.21 KB)\n",
       "</pre>\n"
      ],
      "text/plain": [
       "\u001b[1m Total params: \u001b[0m\u001b[38;5;34m230,710\u001b[0m (901.21 KB)\n"
      ]
     },
     "metadata": {},
     "output_type": "display_data"
    },
    {
     "data": {
      "text/html": [
       "<pre style=\"white-space:pre;overflow-x:auto;line-height:normal;font-family:Menlo,'DejaVu Sans Mono',consolas,'Courier New',monospace\"><span style=\"font-weight: bold\"> Trainable params: </span><span style=\"color: #00af00; text-decoration-color: #00af00\">230,710</span> (901.21 KB)\n",
       "</pre>\n"
      ],
      "text/plain": [
       "\u001b[1m Trainable params: \u001b[0m\u001b[38;5;34m230,710\u001b[0m (901.21 KB)\n"
      ]
     },
     "metadata": {},
     "output_type": "display_data"
    },
    {
     "data": {
      "text/html": [
       "<pre style=\"white-space:pre;overflow-x:auto;line-height:normal;font-family:Menlo,'DejaVu Sans Mono',consolas,'Courier New',monospace\"><span style=\"font-weight: bold\"> Non-trainable params: </span><span style=\"color: #00af00; text-decoration-color: #00af00\">0</span> (0.00 B)\n",
       "</pre>\n"
      ],
      "text/plain": [
       "\u001b[1m Non-trainable params: \u001b[0m\u001b[38;5;34m0\u001b[0m (0.00 B)\n"
      ]
     },
     "metadata": {},
     "output_type": "display_data"
    }
   ],
   "source": [
    "model.summary()"
   ]
  },
  {
   "cell_type": "markdown",
   "id": "b2a762f5-48fe-46ba-be1e-dff8ab801869",
   "metadata": {},
   "source": [
    "3️⃣ Training 🚀 "
   ]
  },
  {
   "cell_type": "markdown",
   "id": "eb4adf9a-0fd9-461a-a0ee-7cf37f4769b9",
   "metadata": {},
   "source": [
    "Model Compilation ⚙️\n",
    "Optimizer: Adam\n",
    "\n",
    "Loss Function: sparse_categorical_crossentropy (why? Because we have labels from [0, 1, ..., 9]).\n",
    "\n",
    "Metrics: Accuracy"
   ]
  },
  {
   "cell_type": "code",
   "execution_count": null,
   "id": "609e39b7-3296-467c-b581-e2cae14b901c",
   "metadata": {},
   "outputs": [],
   "source": [
    "model.compile(\n",
    "    optimizer='adam',\n",
    "    loss='sparse_categorical_crossentropy',\n",
    "    metrics= ['accuracy'])"
   ]
  },
  {
   "cell_type": "code",
   "execution_count": null,
   "id": "0fb19470-c5d6-44c3-898f-1432d12873be",
   "metadata": {},
   "outputs": [
    {
     "name": "stdout",
     "output_type": "stream",
     "text": [
      "Epoch 1/20\n",
      "\u001b[1m132/132\u001b[0m \u001b[32m━━━━━━━━━━━━━━━━━━━━\u001b[0m\u001b[37m\u001b[0m \u001b[1m27s\u001b[0m 160ms/step - accuracy: 0.3645 - loss: 1.8078 - val_accuracy: 0.6842 - val_loss: 0.9967\n",
      "Epoch 2/20\n",
      "\u001b[1m132/132\u001b[0m \u001b[32m━━━━━━━━━━━━━━━━━━━━\u001b[0m\u001b[37m\u001b[0m \u001b[1m15s\u001b[0m 116ms/step - accuracy: 0.7773 - loss: 0.7400 - val_accuracy: 0.7424 - val_loss: 0.7877\n",
      "Epoch 3/20\n",
      "\u001b[1m132/132\u001b[0m \u001b[32m━━━━━━━━━━━━━━━━━━━━\u001b[0m\u001b[37m\u001b[0m \u001b[1m18s\u001b[0m 139ms/step - accuracy: 0.8859 - loss: 0.4454 - val_accuracy: 0.7672 - val_loss: 0.6990\n",
      "Epoch 4/20\n",
      "\u001b[1m132/132\u001b[0m \u001b[32m━━━━━━━━━━━━━━━━━━━━\u001b[0m\u001b[37m\u001b[0m \u001b[1m15s\u001b[0m 113ms/step - accuracy: 0.9416 - loss: 0.2793 - val_accuracy: 0.7767 - val_loss: 0.6652\n",
      "Epoch 5/20\n",
      "\u001b[1m132/132\u001b[0m \u001b[32m━━━━━━━━━━━━━━━━━━━━\u001b[0m\u001b[37m\u001b[0m \u001b[1m16s\u001b[0m 123ms/step - accuracy: 0.9737 - loss: 0.1785 - val_accuracy: 0.7939 - val_loss: 0.6214\n",
      "Epoch 6/20\n",
      "\u001b[1m132/132\u001b[0m \u001b[32m━━━━━━━━━━━━━━━━━━━━\u001b[0m\u001b[37m\u001b[0m \u001b[1m14s\u001b[0m 103ms/step - accuracy: 0.9902 - loss: 0.1109 - val_accuracy: 0.7948 - val_loss: 0.6051\n",
      "Epoch 7/20\n",
      "\u001b[1m132/132\u001b[0m \u001b[32m━━━━━━━━━━━━━━━━━━━━\u001b[0m\u001b[37m\u001b[0m \u001b[1m18s\u001b[0m 135ms/step - accuracy: 0.9977 - loss: 0.0730 - val_accuracy: 0.8006 - val_loss: 0.5982\n",
      "Epoch 8/20\n",
      "\u001b[1m132/132\u001b[0m \u001b[32m━━━━━━━━━━━━━━━━━━━━\u001b[0m\u001b[37m\u001b[0m \u001b[1m13s\u001b[0m 101ms/step - accuracy: 0.9994 - loss: 0.0482 - val_accuracy: 0.8006 - val_loss: 0.6073\n",
      "Epoch 9/20\n",
      "\u001b[1m132/132\u001b[0m \u001b[32m━━━━━━━━━━━━━━━━━━━━\u001b[0m\u001b[37m\u001b[0m \u001b[1m16s\u001b[0m 122ms/step - accuracy: 1.0000 - loss: 0.0334 - val_accuracy: 0.8015 - val_loss: 0.6084\n",
      "Epoch 10/20\n",
      "\u001b[1m132/132\u001b[0m \u001b[32m━━━━━━━━━━━━━━━━━━━━\u001b[0m\u001b[37m\u001b[0m \u001b[1m15s\u001b[0m 116ms/step - accuracy: 1.0000 - loss: 0.0239 - val_accuracy: 0.8034 - val_loss: 0.6146\n",
      "Epoch 11/20\n",
      "\u001b[1m132/132\u001b[0m \u001b[32m━━━━━━━━━━━━━━━━━━━━\u001b[0m\u001b[37m\u001b[0m \u001b[1m17s\u001b[0m 128ms/step - accuracy: 1.0000 - loss: 0.0180 - val_accuracy: 0.7958 - val_loss: 0.6685\n",
      "Epoch 12/20\n",
      "\u001b[1m132/132\u001b[0m \u001b[32m━━━━━━━━━━━━━━━━━━━━\u001b[0m\u001b[37m\u001b[0m \u001b[1m14s\u001b[0m 106ms/step - accuracy: 1.0000 - loss: 0.0156 - val_accuracy: 0.7996 - val_loss: 0.6750\n",
      "Epoch 13/20\n",
      "\u001b[1m132/132\u001b[0m \u001b[32m━━━━━━━━━━━━━━━━━━━━\u001b[0m\u001b[37m\u001b[0m \u001b[1m15s\u001b[0m 116ms/step - accuracy: 1.0000 - loss: 0.0128 - val_accuracy: 0.7996 - val_loss: 0.6755\n",
      "Epoch 14/20\n",
      "\u001b[1m132/132\u001b[0m \u001b[32m━━━━━━━━━━━━━━━━━━━━\u001b[0m\u001b[37m\u001b[0m \u001b[1m14s\u001b[0m 106ms/step - accuracy: 1.0000 - loss: 0.0102 - val_accuracy: 0.8025 - val_loss: 0.6663\n",
      "Epoch 15/20\n",
      "\u001b[1m132/132\u001b[0m \u001b[32m━━━━━━━━━━━━━━━━━━━━\u001b[0m\u001b[37m\u001b[0m \u001b[1m16s\u001b[0m 125ms/step - accuracy: 1.0000 - loss: 0.0080 - val_accuracy: 0.8063 - val_loss: 0.6666\n",
      "Epoch 16/20\n",
      "\u001b[1m132/132\u001b[0m \u001b[32m━━━━━━━━━━━━━━━━━━━━\u001b[0m\u001b[37m\u001b[0m \u001b[1m16s\u001b[0m 120ms/step - accuracy: 1.0000 - loss: 0.0067 - val_accuracy: 0.8073 - val_loss: 0.6689\n",
      "Epoch 17/20\n",
      "\u001b[1m132/132\u001b[0m \u001b[32m━━━━━━━━━━━━━━━━━━━━\u001b[0m\u001b[37m\u001b[0m \u001b[1m16s\u001b[0m 122ms/step - accuracy: 1.0000 - loss: 0.0056 - val_accuracy: 0.8130 - val_loss: 0.6671\n",
      "Epoch 18/20\n",
      "\u001b[1m132/132\u001b[0m \u001b[32m━━━━━━━━━━━━━━━━━━━━\u001b[0m\u001b[37m\u001b[0m \u001b[1m15s\u001b[0m 114ms/step - accuracy: 1.0000 - loss: 0.0047 - val_accuracy: 0.8139 - val_loss: 0.6675\n",
      "Epoch 19/20\n",
      "\u001b[1m132/132\u001b[0m \u001b[32m━━━━━━━━━━━━━━━━━━━━\u001b[0m\u001b[37m\u001b[0m \u001b[1m16s\u001b[0m 122ms/step - accuracy: 1.0000 - loss: 0.0040 - val_accuracy: 0.8149 - val_loss: 0.6698\n",
      "Epoch 20/20\n",
      "\u001b[1m132/132\u001b[0m \u001b[32m━━━━━━━━━━━━━━━━━━━━\u001b[0m\u001b[37m\u001b[0m \u001b[1m16s\u001b[0m 117ms/step - accuracy: 1.0000 - loss: 0.0034 - val_accuracy: 0.8168 - val_loss: 0.6680\n"
     ]
    }
   ],
   "source": [
    "epochs = 20\n",
    "history = model.fit(train_ds, validation_data=test_ds,epochs=epochs ,verbose=1)"
   ]
  },
  {
   "cell_type": "markdown",
   "id": "37d76d7c-a4c0-46da-8c51-4636a88bd2f7",
   "metadata": {},
   "source": [
    "🚀 Big Win! that’s a solid start!\n",
    "\n",
    "💡 It’s clear that there’s stability in performance, but this might lead to overfitting over time if we continue training without techniques like dropout or regularization.\n",
    "\n",
    "🎉 But we're on the right track! With some model improvements, we'll achieve even better results.\n",
    "\n",
    "🗣 Team, we’re laying the groundwork for something extraordinary. Let’s keep up the momentum and keep pushing forward!"
   ]
  },
  {
   "cell_type": "code",
   "execution_count": null,
   "id": "384d1f59-6f56-4b2f-ba7a-3fb8b999f74c",
   "metadata": {},
   "outputs": [
    {
     "data": {
      "image/png": "[encoded data removed]",
      "text/plain": [
       "<Figure size 800x800 with 2 Axes>"
      ]
     },
     "metadata": {},
     "output_type": "display_data"
    }
   ],
   "source": [
    "acc = history.history['accuracy']\n",
    "#get validation accuracy\n",
    "val_acc = history.history['val_accuracy']\n",
    "# get train loss\n",
    "loss = history.history['loss']\n",
    "#get validation loss\n",
    "val_loss = history.history['val_loss']\n",
    "\n",
    "epochs_range = range(epochs)\n",
    "# plot accuracy\n",
    "plt.figure(figsize=(8, 8))\n",
    "plt.subplot(1, 2, 1)\n",
    "plt.plot(epochs_range, acc, label='Training Accuracy')\n",
    "plt.plot(epochs_range, val_acc, label='Validation Accuracy')\n",
    "plt.legend(loc='lower right')\n",
    "plt.title('Training and Validation Accuracy')\n",
    "# plot loss\n",
    "plt.subplot(1, 2, 2)\n",
    "plt.plot(epochs_range, loss, label='Training Loss')\n",
    "plt.plot(epochs_range, val_loss, label='Validation Loss')\n",
    "plt.legend(loc='upper right')\n",
    "plt.title('Training and Validation Loss')\n",
    "plt.show()"
   ]
  }
 ],
 "metadata": {
  "kernelspec": {
   "display_name": "emoji-wave",
   "language": "python",
   "name": "python3"
  },
  "language_info": {
   "codemirror_mode": {
    "name": "ipython",
    "version": 3
   },
   "file_extension": ".py",
   "mimetype": "text/x-python",
   "name": "python",
   "nbconvert_exporter": "python",
   "pygments_lexer": "ipython3",
   "version": "3.10.6"
  }
 },
 "nbformat": 4,
 "nbformat_minor": 5
}
