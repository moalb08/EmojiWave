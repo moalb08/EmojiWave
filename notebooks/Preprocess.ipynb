{
 "cells": [
  {
   "cell_type": "markdown",
   "id": "7e4e8aba-7847-4953-8018-32060dc8e7c6",
   "metadata": {},
   "source": [
    "# 🧼 Data Preprocessing – Real-Time Hand Gesture Dataset\n",
    " Our Notebook handles the preprocessing for our hand gesture dataset project by:\n",
    "- Loading the image\n",
    "- Resizing and normalizing the image\n"
   ]
  },
  {
   "cell_type": "markdown",
   "id": "e12af4c4-f220-41ee-882e-4f0d1a8f30fe",
   "metadata": {},
   "source": [
    "Import Libraries 📚➡️🔄\n",
    "\n"
   ]
  },
  {
   "cell_type": "code",
   "execution_count": 6,
   "id": "b838ac99-822c-4654-bdb8-0dda6d4c1986",
   "metadata": {},
   "outputs": [],
   "source": [
    "import os\n",
    "import cv2\n",
    "import numpy as np\n",
    "import random\n",
    "import matplotlib.pyplot as plt\n",
    "import matplotlib.image as mpimg\n",
    "import tensorflow as tf\n",
    "from sklearn.model_selection import train_test_split"
   ]
  },
  {
   "cell_type": "markdown",
   "id": "f01b1c3a-4d77-4ebc-8ff2-992cebe1bc1f",
   "metadata": {},
   "source": [
    "Dataset Path & Image resize 📁🔀 & 🖼️🔄📏📐\n",
    "\n",
    "\n"
   ]
  },
  {
   "cell_type": "code",
   "execution_count": 12,
   "id": "12416e45-60fe-45a1-bf3b-905908c11359",
   "metadata": {},
   "outputs": [],
   "source": [
    "DATA_PATH = \"real_time_gesture/Dataset\"\n",
    "IMG_SIZE = 64\n",
    "BATCH_SIZE = 32\n",
    "SEED=123"
   ]
  },
  {
   "cell_type": "markdown",
   "id": "91c06d5e-a04b-4f37-a78d-1d1068170e44",
   "metadata": {},
   "source": [
    " Load & Split Data 🔄 & 🔪 📊\n",
    "\n",
    "\n",
    "\n",
    "\n"
   ]
  },
  {
   "cell_type": "code",
   "execution_count": 13,
   "id": "bb312363-3d74-4934-baa0-f8e0237593ed",
   "metadata": {},
   "outputs": [
    {
     "name": "stdout",
     "output_type": "stream",
     "text": [
      "Found 5243 files belonging to 10 classes.\n",
      "Using 4195 files for training.\n"
     ]
    },
    {
     "name": "stderr",
     "output_type": "stream",
     "text": [
      "E0000 00:00:1745407209.572121   26612 cuda_executor.cc:1228] INTERNAL: CUDA Runtime error: Failed call to cudaGetRuntimeVersion: Error loading CUDA libraries. GPU will not be used.: Error loading CUDA libraries. GPU will not be used.\n",
      "W0000 00:00:1745407209.572815   26612 gpu_device.cc:2341] Cannot dlopen some GPU libraries. Please make sure the missing libraries mentioned above are installed properly if you would like to use GPU. Follow the guide at https://www.tensorflow.org/install/gpu for how to download and setup the required libraries for your platform.\n",
      "Skipping registering GPU devices...\n"
     ]
    },
    {
     "name": "stdout",
     "output_type": "stream",
     "text": [
      "Found 5243 files belonging to 10 classes.\n",
      "Using 1048 files for validation.\n"
     ]
    }
   ],
   "source": [
    "train_ds = tf.keras.utils.image_dataset_from_directory(\n",
    "    DATA_PATH,\n",
    "    validation_split=0.2,\n",
    "    subset=\"training\",\n",
    "    seed=SEED,\n",
    "    image_size=(IMG_SIZE, IMG_SIZE),\n",
    "    batch_size=BATCH_SIZE)\n",
    "\n",
    "test_ds = tf.keras.utils.image_dataset_from_directory(\n",
    "    DATA_PATH,\n",
    "    validation_split=0.2,\n",
    "    subset=\"validation\",\n",
    "    seed=SEED,\n",
    "    image_size=(IMG_SIZE, IMG_SIZE),\n",
    "    batch_size=BATCH_SIZE)"
   ]
  },
  {
   "cell_type": "markdown",
   "id": "76477e1f-645e-4c6a-89dc-a079c1706989",
   "metadata": {},
   "source": [
    " Preprocess: Grayscale & Normalize 🔄🎞️➡️⚫⚪🔄📏🔣\n",
    "\n"
   ]
  },
  {
   "cell_type": "code",
   "execution_count": 15,
   "id": "b440792e-456d-49c6-984b-b40aaba80c65",
   "metadata": {},
   "outputs": [],
   "source": [
    "normalization_layer = tf.keras.layers.Rescaling(1./255)\n",
    "AUTOTUNE = tf.data.AUTOTUNE\n",
    "\n",
    "def preprocess(ds, is_train=False):\n",
    "    def to_grayscale(image, label):\n",
    "        image = tf.image.rgb_to_grayscale(image)\n",
    "        return image, label\n",
    "\n",
    "    ds = ds.map(to_grayscale, num_parallel_calls=AUTOTUNE)\n",
    "    ds = ds.map(lambda x, y: (normalization_layer(x), y), num_parallel_calls=AUTOTUNE)\n",
    "    ds = ds.cache()\n",
    "    ds = ds.prefetch(buffer_size=AUTOTUNE)\n",
    "    return ds\n",
    "\n",
    "train_ds = preprocess(train_ds, is_train=True )\n",
    "test_ds = preprocess(test_ds) "
   ]
  }
 ],
 "metadata": {
  "kernelspec": {
   "display_name": "Python 3 (ipykernel)",
   "language": "python",
   "name": "python3"
  },
  "language_info": {
   "codemirror_mode": {
    "name": "ipython",
    "version": 3
   },
   "file_extension": ".py",
   "mimetype": "text/x-python",
   "name": "python",
   "nbconvert_exporter": "python",
   "pygments_lexer": "ipython3",
   "version": "3.10.6"
  }
 },
 "nbformat": 4,
 "nbformat_minor": 5
}
